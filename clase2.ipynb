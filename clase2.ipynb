#========================================
# 1. VARIABLES Y OPERADORES
#========================================
x=3
y=5
print(x) #mostrando la variable 
type(x) #tipo de dato
# Concatenar 
z="Hola "*3 
zz=z + " " + "Mundo....." + str(y)#cast
print(zz)
# Re definiendo tipos 
x=3.54 
type(x) #float
xx=int(x) #cast
#redondeos
print(round(3.5))
print(round(3.5,1))
#Operadores Artimeticos (+,-,*,/,%)
5%2
 #hhmmss ----> mm ss (102315)
 102315%100 #ss: 15
 int(((102315-102315%100)/100)%100)
    

