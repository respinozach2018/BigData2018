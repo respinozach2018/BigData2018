#=========================================
# Manejo Sofisticado Estructura de Datos (ED)
#=========================================
#1. Arreglos Lineales
x={20,12,14,15,18,5}
type(x)
import numpy as np
notas=np.array([20,12,14,15,18,5])
type(notas)
print(notas)
