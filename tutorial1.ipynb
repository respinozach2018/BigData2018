#=========================================
# Manejo Sofisticado Estructura de Datos (ED)
#=========================================
#1. Arreglos Lineales
x={20,12,14,15,18,5}
type(x)
import numpy as np
notas=np.array([20,12,14,15,18,5])
type(notas)
print(notas)
notas.dtype     #Tipo de Array
notas.size      #Tamaño del arreglo
notas.sum()     #Enfoque orientado a objetos
notas.max()
notas.min()
notas.mean()

notas[3]        #Leer un dato . Los arrays comienzan con index 0
notas[[2,4,5]]  #Leer varios Datos
notas[5]=11     #Reemplazo
d = np.array([1, 2, 3])
c = np.array([1, 2, 3], dtype=float)
c.dtype
d.dtype
#Recorrido de un array
i=0
for x in notas:
  i=i+1
  print("Elemento : " + str(i) + ": " + str(x))
#Autogeneración
a=np.repeat(4,3)        #Repeticiones 4 4 4
b=np.arange(2,15,3)     #Secuencial 2  5  8 11 14

#2. Matrices
A=np.array([10,11,12,13,14,15]).reshape(3, 2)   #Por fila
B=np.array([10,11,12,13,14,15]).reshape(3, 2, order="F")   #Por Columna
B
B[2,0]      #Leer 1 dato (3ra fila,1ra columna)
B[1,:]      #Leer toda una fila
B[:,0]      #Leer toda una columna
B[[1,2],1]  #Leer la Fila 1 y 2 de la columna 1 
